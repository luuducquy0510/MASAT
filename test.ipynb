{
 "cells": [
  {
   "cell_type": "code",
   "execution_count": 6,
   "id": "b6b25b57",
   "metadata": {},
   "outputs": [],
   "source": [
    "from langchain_tavily import TavilySearch\n",
    "import requests\n",
    "import os\n",
    "from dotenv import load_dotenv\n",
    "\n",
    "\n",
    "load_dotenv()\n",
    "TAVILY_API_KEY = os.getenv(\"TAVILY_API_KEY\")  # Hoặc gán trực tiếp nếu cần\n",
    "\n",
    "def web_search(query: str, max_results: int = 3) -> list[dict]:\n",
    "    \"\"\"\n",
    "    Perform a Tavily search and return a list of results.\n",
    "    Each result includes the title, snippet, and URL.\n",
    "    \"\"\"\n",
    "    tavily_search_tool = TavilySearch(max_results=max_results, topic=\"general\")\n",
    "    results = tavily_search_tool.invoke({\"query\": query})\n",
    "\n",
    "    return results"
   ]
  },
  {
   "cell_type": "code",
   "execution_count": 7,
   "id": "75485a9d",
   "metadata": {},
   "outputs": [
    {
     "name": "stdout",
     "output_type": "stream",
     "text": [
      "{'query': 'Best hiking spots near Tokyo', 'follow_up_questions': None, 'answer': None, 'images': [], 'results': [{'url': 'https://boutiquejapan.com/best-hikes-near-tokyo/', 'title': 'The Best Day Hikes Around Tokyo: Kamakura & More', 'content': \"Best Day Hikes Near Tokyo · Mt. Takao (Takao-san) · Mt. Tsukuba (Tsukuba-san) · Kamakura & Enoshima · Shosenkyo Gorge · Don't Miss the Chance to Hike Near Tokyo.\", 'score': 0.898277, 'raw_content': None}, {'url': 'https://www.magical-trip.com/media/the-ultimate-guide-to-hiking-near-tokyo-2025-top-15-day-trip-trails-for-foreigners-w-map/', 'title': 'The Ultimate Guide to Hiking Near Tokyo 2025: Top 15 Day-Trip ...', 'content': 'Mount Takao, visited by over 3 million people annually, is the most popular hiking spot in Tokyo. In addition to convenient access about 1 hour', 'score': 0.8943568, 'raw_content': None}, {'url': 'https://www.emgoto.com/tokyo-day-hikes/', 'title': '16 of my Favourite Day Hikes near Tokyo - Emma Goto', 'content': 'As well as classic beginner-friendly hikes like Mt Takao and Mt Mitake which are only 1 - 2 hours from Tokyo, I’ve included mountains as far afield as Tochigi, Gunma and Fukushima, which are surprisingly accessible as a day trip if you don’t mind paying the Shinkansen fare. Mt Takao (高尾山) is by far the most popular mountain in Tokyo, with a variety of hiking trails accessible in all seasons, and being only one hour from Shinjuku by train. Mt Adatara (安達太良山) is all the way out in Fukushima and so it’s definitely on the pricier side at a 20,000 yen round trip from Tokyo, but still surprisingly accessible as a day hike.', 'score': 0.885404, 'raw_content': None}], 'response_time': 1.07, 'request_id': 'aaa148e9-8397-4151-923b-6b1f0164cf60'}\n"
     ]
    }
   ],
   "source": [
    "test_results = web_search(\"Best hiking spots near Tokyo\", max_results=3)\n",
    "print(test_results)"
   ]
  },
  {
   "cell_type": "code",
   "execution_count": null,
   "id": "17399a00",
   "metadata": {},
   "outputs": [],
   "source": []
  }
 ],
 "metadata": {
  "kernelspec": {
   "display_name": "venv (3.12.3)",
   "language": "python",
   "name": "python3"
  },
  "language_info": {
   "codemirror_mode": {
    "name": "ipython",
    "version": 3
   },
   "file_extension": ".py",
   "mimetype": "text/x-python",
   "name": "python",
   "nbconvert_exporter": "python",
   "pygments_lexer": "ipython3",
   "version": "3.12.3"
  }
 },
 "nbformat": 4,
 "nbformat_minor": 5
}
